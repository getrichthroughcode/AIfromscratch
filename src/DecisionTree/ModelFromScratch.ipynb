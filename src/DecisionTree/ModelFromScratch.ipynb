{
 "cells": [
  {
   "cell_type": "markdown",
   "metadata": {},
   "source": [
    "# __Implementing a Decision Tree from Scratch__"
   ]
  },
  {
   "cell_type": "code",
   "execution_count": 7,
   "metadata": {},
   "outputs": [],
   "source": [
    "import numpy as np"
   ]
  },
  {
   "cell_type": "code",
   "execution_count": 8,
   "metadata": {},
   "outputs": [],
   "source": [
    "class TreeNode:\n",
    "    def __init__(self,feature=None, left=None, right=None, *, value=None):\n",
    "        self.feature = feature\n",
    "        self.left    = left\n",
    "        self.right   = right \n",
    "        self.value   = value\n",
    "\n",
    "        "
   ]
  },
  {
   "cell_type": "code",
   "execution_count": 9,
   "metadata": {},
   "outputs": [],
   "source": [
    "class DecisionTreeClassifierScratch:\n",
    "    def __init__(self,max_depth=None):\n",
    "        self.max_depth = max_depth\n",
    "        self.root = None\n",
    "\n",
    "\n",
    "    def fit(self,X,y):\n",
    "        self._grow_tree(X,y)\n",
    "\n",
    "    def predict(self,X):\n",
    "        return np.array([self._traverse_tree(x,self.root) for x in X])\n",
    "\n",
    "    def _grow_tree(self,X,y,depth=0):\n",
    "        n_samples, n_features = X.shape\n",
    "        n_labels = len(np.unique(y))\n",
    "\n",
    "        # Stopping Criteria\n",
    "        if depth >= self.max_depth or n_labels == 1:\n",
    "            leaf_value = self._most_common_label(y)\n",
    "            return TreeNode(value=leaf_value)\n",
    "\n",
    "        # find the best split \n",
    "        best_feature, best_threshold = self._best_split(X, y, n_samples, n_features)\n",
    "\n",
    "        # Grow the children recursively\n",
    "        left_indices  = X[:, best_feature] <= best_threshold\n",
    "        right_indices = X[:,best_feature] > best_threshold\n",
    "\n",
    "        left_subtree  = self._grow_tree(X[left_indices], y[left_indices], depth + 1)\n",
    "        right_subtree = self._grow_tree(X[right_indices], y[right_indices], depth + 1)\n",
    "\n",
    "        return TreeNode(best_feature, best_threshold, left_subtree, right_subtree)\n",
    "\n",
    "    def _best_split(self,X,y,n_samples, n_features):\n",
    "        best_gain = -1 \n",
    "        split_idx, split_threshold = None, None\n",
    "\n",
    "        for feature_idx in range(n_features):\n",
    "            X_column  = X[:,feature_idx]\n",
    "            thresholds = np.unique(X_column)\n",
    "\n",
    "            for threshold in thresholds:\n",
    "                gain = self._information_gain(X_column, y, threshold)\n",
    "\n",
    "                if gain > best_gain:\n",
    "                    best_gain = gain\n",
    "                    split_idx = feature_idx\n",
    "                    split_threshold = threshold\n",
    "        return split_idx, split_threshold   \n",
    "\n",
    "\n",
    "    def _information_gain(self, X_column, y, threshold):\n",
    "        parent_entropy = self._entropy(y)\n",
    "\n",
    "        # Generate split\n",
    "        left_indices = X_column <= threshold\n",
    "        right_indices = X_column > threshold\n",
    "\n",
    "        if len(left_indices) == 0 or len(right_indices) == 0:\n",
    "            return 0\n",
    "        \n",
    "        n = len(y)\n",
    "        n_left, n_right = len(y[left_indices]), len(y[right_indices])\n",
    "        e_left, e_right = self._entropy(y[left_indices]), self._entropy(y[right_indices])\n",
    "        child_entropy = (n_left / n) * e_left + (n_right / n) * e_right\n",
    "        ig = parent_entropy - child_entropy\n",
    "        return ig\n",
    "\n",
    "    def _entropy(self, y):\n",
    "        proportions = np.bincount(y) / len(y)\n",
    "        return -np.sum([p * np.log2(p) for p in proportions if p > 0])\n",
    "\n",
    "    def _most_common_label(self, y):\n",
    "        return np.bincount(y).argmax()\n",
    "\n",
    "    def _traverse_tree(self, x, node):\n",
    "        if node.value is not None:\n",
    "            return node.value\n",
    "\n",
    "        if x[node.feature] <= node.threshold:\n",
    "            return self._traverse_tree(x[node.left])\n",
    "        return self._traverse_tree(x[node.right])\n",
    "                           "
   ]
  },
  {
   "cell_type": "code",
   "execution_count": 2,
   "metadata": {},
   "outputs": [],
   "source": [
    "from sklearn.datasets import load_iris\n",
    "\n",
    "data = load_iris()\n"
   ]
  },
  {
   "cell_type": "code",
   "execution_count": 4,
   "metadata": {},
   "outputs": [],
   "source": [
    "import pandas as pd \n",
    "\n",
    "df_features = pd.DataFrame(data.data, columns=data.feature_names)\n",
    "\n",
    "df_target = pd.DataFrame(data.target, columns=['target'])\n",
    "\n",
    "df_combined = pd.concat([df_features, df_target],axis=1)\n"
   ]
  },
  {
   "cell_type": "code",
   "execution_count": 5,
   "metadata": {},
   "outputs": [
    {
     "data": {
      "text/html": [
       "<div>\n",
       "<style scoped>\n",
       "    .dataframe tbody tr th:only-of-type {\n",
       "        vertical-align: middle;\n",
       "    }\n",
       "\n",
       "    .dataframe tbody tr th {\n",
       "        vertical-align: top;\n",
       "    }\n",
       "\n",
       "    .dataframe thead th {\n",
       "        text-align: right;\n",
       "    }\n",
       "</style>\n",
       "<table border=\"1\" class=\"dataframe\">\n",
       "  <thead>\n",
       "    <tr style=\"text-align: right;\">\n",
       "      <th></th>\n",
       "      <th>sepal length (cm)</th>\n",
       "      <th>sepal width (cm)</th>\n",
       "      <th>petal length (cm)</th>\n",
       "      <th>petal width (cm)</th>\n",
       "      <th>target</th>\n",
       "    </tr>\n",
       "  </thead>\n",
       "  <tbody>\n",
       "    <tr>\n",
       "      <th>0</th>\n",
       "      <td>5.1</td>\n",
       "      <td>3.5</td>\n",
       "      <td>1.4</td>\n",
       "      <td>0.2</td>\n",
       "      <td>0</td>\n",
       "    </tr>\n",
       "    <tr>\n",
       "      <th>1</th>\n",
       "      <td>4.9</td>\n",
       "      <td>3.0</td>\n",
       "      <td>1.4</td>\n",
       "      <td>0.2</td>\n",
       "      <td>0</td>\n",
       "    </tr>\n",
       "    <tr>\n",
       "      <th>2</th>\n",
       "      <td>4.7</td>\n",
       "      <td>3.2</td>\n",
       "      <td>1.3</td>\n",
       "      <td>0.2</td>\n",
       "      <td>0</td>\n",
       "    </tr>\n",
       "    <tr>\n",
       "      <th>3</th>\n",
       "      <td>4.6</td>\n",
       "      <td>3.1</td>\n",
       "      <td>1.5</td>\n",
       "      <td>0.2</td>\n",
       "      <td>0</td>\n",
       "    </tr>\n",
       "    <tr>\n",
       "      <th>4</th>\n",
       "      <td>5.0</td>\n",
       "      <td>3.6</td>\n",
       "      <td>1.4</td>\n",
       "      <td>0.2</td>\n",
       "      <td>0</td>\n",
       "    </tr>\n",
       "  </tbody>\n",
       "</table>\n",
       "</div>"
      ],
      "text/plain": [
       "   sepal length (cm)  sepal width (cm)  petal length (cm)  petal width (cm)  \\\n",
       "0                5.1               3.5                1.4               0.2   \n",
       "1                4.9               3.0                1.4               0.2   \n",
       "2                4.7               3.2                1.3               0.2   \n",
       "3                4.6               3.1                1.5               0.2   \n",
       "4                5.0               3.6                1.4               0.2   \n",
       "\n",
       "   target  \n",
       "0       0  \n",
       "1       0  \n",
       "2       0  \n",
       "3       0  \n",
       "4       0  "
      ]
     },
     "execution_count": 5,
     "metadata": {},
     "output_type": "execute_result"
    }
   ],
   "source": [
    "df_combined.head()"
   ]
  },
  {
   "cell_type": "code",
   "execution_count": 6,
   "metadata": {},
   "outputs": [
    {
     "data": {
      "image/png": "[encoded data removed]",
      "text/plain": [
       "<Figure size 640x480 with 1 Axes>"
      ]
     },
     "metadata": {},
     "output_type": "display_data"
    }
   ],
   "source": [
    "import seaborn as sns\n",
    "import matplotlib.pyplot as plt \n",
    "\n",
    "sns.countplot(x='target',data=df_combined)\n",
    "plt.title('Distribution of classes')\n",
    "plt.xticks([0,1,2],data.target_names)\n",
    "plt.show()"
   ]
  },
  {
   "cell_type": "code",
   "execution_count": 13,
   "metadata": {},
   "outputs": [
    {
     "name": "stdout",
     "output_type": "stream",
     "text": [
      "YOUR NAME HEREYour Position or Tagline Here@your_name@email.com phone000-00-0000 envelpeddrs Street 00000 Cuntry ap-arkerLocation COUNTRYglbewww.homepage.com xicon@x-handle linkedinyour_id githubyour_id orcid0000-0000-0000-0000EXPERIENCEJob Title 1Company 15Month 20XX  Ongoing ap-arkerLocationJob description 1Job description 2Job Title 2Company 25Month 20XX  Ongoing ap-arkerLocationJob description 1Job description 2PROJECTSProject 1Funding agencyinstitutionDetailsProject 2Funding agencyinstitution5Project durationA short abstract would also work.A DAY OF MY LIFESleepbeautiful sleepHopeful nov-elist by nightDaytime jobSports and relaxationSpending timewith familyMY LIFE PHILOSOPHYSomething smart or heartfelt prefer-ably in one sentence.MOST PROUD OF6Fantastic Achievementand some details about itheartbeatAnother achievementmore details about it of courseheartbeatAnother achievementmore details about it of courseSTRENGTHSHard-working Eye for detailMotivator  LeaderC Embedded SystemsStatistical AnalysisLANGUAGESEnglish     Spanish     German    EDUCATIONPh.D. in Your DisciplineYour University5Sept 2002  June 2006Thesis title Wonderful ResearchM.Sc. in Your DisciplineYour University5Sept 2001  June 2002B.Sc. in Your DisciplineStanford University5Sept 1998  June 2001PUBLICATIONSEBooksE. Someone and T. Lim A Fictional Research . Somewhere SomePlace 2010.file-altJournal ArticlesL. T. Wong and E. Someone A non-existant paper Journal ofCarrying On  vol. 12 2011.L. T. Lim  E. Someone and A. Other A study into reside story-telling Journal of Carrying On  vol. 7 2008.usersConference ProceedingsE. Someone and L. T. Lim  Another paper something somethinginProceedings of the 72nd AmaZing Conference  Far Far Away2013.REFEREESProf. Alpha Beta@Instituteenvelpea.beta@university.eduAddress Line 1Address line 2Prof. Gamma Delta@Instituteenvelpeg.delta@university.eduAddress Line 1Address line 2\n"
     ]
    }
   ],
   "source": [
    "from PyPDF2 import PdfReader\n",
    "import re\n",
    "def clean_text(text):\n",
    "    # Remove unwanted special characters\n",
    "    cleaned_text = re.sub(r\"[^a-zA-Z0-9 \\-_\\\\.@()]\", \"\", text)\n",
    "    # Remove newline characters\n",
    "    cleaned_text = re.sub(r\"\\n\", \" \", cleaned_text)\n",
    "    return cleaned_text\n",
    "\n",
    "\n",
    "def extract_text_from_pdf(path):\n",
    "    pdf_reader = PdfReader(path)\n",
    "    text = \"\"\n",
    "    for i, _ in enumerate(pdf_reader.pages):\n",
    "        page = pdf_reader.pages[i]\n",
    "        text += page.extract_text()\n",
    "    clean = clean_text(text)\n",
    "    return clean\n",
    "\n",
    "path = \"../../../../Downloads/altacv-template.pdf\"\n",
    "\n",
    "\n",
    "print(extract_text_from_pdf(path))\n"
   ]
  },
  {
   "cell_type": "code",
   "execution_count": null,
   "metadata": {},
   "outputs": [],
   "source": []
  }
 ],
 "metadata": {
  "kernelspec": {
   "display_name": "scratch-opBLSO_c-py3.12",
   "language": "python",
   "name": "python3"
  },
  "language_info": {
   "codemirror_mode": {
    "name": "ipython",
    "version": 3
   },
   "file_extension": ".py",
   "mimetype": "text/x-python",
   "name": "python",
   "nbconvert_exporter": "python",
   "pygments_lexer": "ipython3",
   "version": "3.12.5"
  }
 },
 "nbformat": 4,
 "nbformat_minor": 2
}
