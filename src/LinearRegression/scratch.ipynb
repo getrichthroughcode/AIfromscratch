{
 "cells": [
  {
   "cell_type": "code",
   "execution_count": 63,
   "metadata": {},
   "outputs": [],
   "source": [
    "import numpy as np \n",
    "import matplotlib.pyplot as plt \n",
    "\n",
    "class ScratchLinearRegression:\n",
    "    def __init__(self, learning_rate, epochs, tol):\n",
    "        \"\"\"\n",
    "        Hyperparameters and parameters definition\n",
    "        \"\"\"\n",
    "        # Hyperparameters\n",
    "        self.learning_rate = learning_rate\n",
    "        self.epochs = epochs\n",
    "        self.tol = tol\n",
    "\n",
    "        # Parameters\n",
    "        self.weights = None\n",
    "        self.bias = None\n",
    "\n",
    "    def _hypothesis_function(self, weights, bias, X):\n",
    "        \"\"\"\n",
    "        Computes an hypothesis about the final model\n",
    "        \"\"\"    \n",
    "        return np.dot(X, weights ) + bias  # Assuming X is (m, n) and weights is (n,)\n",
    "\n",
    "    def _cost_function(self, weights, bias, X, y):\n",
    "        \"\"\"\n",
    "        Computes the cost of hypothesizing\n",
    "        \"\"\"\n",
    "        m = X.shape[0]\n",
    "        LOSS = np.zeros(m)\n",
    "        f_wb = self._hypothesis_function(weights, bias, X)\n",
    "        error = np.dot(f_wb-y,f_wb-y)\n",
    "        LOSS += error\n",
    "        return sum(LOSS) / (2 * m)\n",
    "    \n",
    "    def _initialize_parameter(self, n_features):\n",
    "        self.weights = np.zeros(n_features)\n",
    "        self.bias    = 0\n",
    "\n",
    "    def _compute_gradient(self,weights,bias,X,y):\n",
    "        \"\"\"\n",
    "        Computes the gradient of the cost function \n",
    "        Parameters : weights -> weights.shape = (n_features,); dtype: ndarray\n",
    "                     bias    ->  number; dtype : float \n",
    "                     X       -> X.shape   = (n_instances,n_features); dtype: ndarray\n",
    "                     y       -> y.shape   = (n_instances); dtype:ndarray\n",
    "\n",
    "        return dj_dw  -> (n_features,); dtype: ndarray\n",
    "               dj_db  -> number ; dtype : float               \n",
    "        \"\"\"\n",
    "        n_features = X.shape[1]\n",
    "        m          = X.shape[0]\n",
    "        dj_dw = np.zeros(n_features)\n",
    "        dj_db = 0\n",
    "        k = 0\n",
    "        for i in range(m):\n",
    "            inter = 0\n",
    "            for j in range(n_features):\n",
    "                inter += weights[j] * X[i][j]\n",
    "            inter += bias - y[i]\n",
    "            inter = X[i][k]*inter\n",
    "            dj_dw[k] += inter\n",
    "            k+=1\n",
    "            \n",
    "\n",
    "\n",
    "\n",
    "    \n"
   ]
  },
  {
   "cell_type": "code",
   "execution_count": 13,
   "metadata": {},
   "outputs": [],
   "source": [
    "import sklearn\n",
    "from sklearn.datasets import _california_housing, fetch_california_housing\n",
    "\n",
    "raw_data = fetch_california_housing()"
   ]
  },
  {
   "cell_type": "code",
   "execution_count": 18,
   "metadata": {},
   "outputs": [
    {
     "data": {
      "text/html": [
       "<div>\n",
       "<style scoped>\n",
       "    .dataframe tbody tr th:only-of-type {\n",
       "        vertical-align: middle;\n",
       "    }\n",
       "\n",
       "    .dataframe tbody tr th {\n",
       "        vertical-align: top;\n",
       "    }\n",
       "\n",
       "    .dataframe thead th {\n",
       "        text-align: right;\n",
       "    }\n",
       "</style>\n",
       "<table border=\"1\" class=\"dataframe\">\n",
       "  <thead>\n",
       "    <tr style=\"text-align: right;\">\n",
       "      <th></th>\n",
       "      <th>MedInc</th>\n",
       "      <th>HouseAge</th>\n",
       "      <th>AveRooms</th>\n",
       "      <th>AveBedrms</th>\n",
       "      <th>Population</th>\n",
       "      <th>AveOccup</th>\n",
       "      <th>Latitude</th>\n",
       "      <th>Longitude</th>\n",
       "      <th>price</th>\n",
       "    </tr>\n",
       "  </thead>\n",
       "  <tbody>\n",
       "    <tr>\n",
       "      <th>0</th>\n",
       "      <td>8.3252</td>\n",
       "      <td>41.0</td>\n",
       "      <td>6.984127</td>\n",
       "      <td>1.023810</td>\n",
       "      <td>322.0</td>\n",
       "      <td>2.555556</td>\n",
       "      <td>37.88</td>\n",
       "      <td>-122.23</td>\n",
       "      <td>4.526</td>\n",
       "    </tr>\n",
       "    <tr>\n",
       "      <th>1</th>\n",
       "      <td>8.3014</td>\n",
       "      <td>21.0</td>\n",
       "      <td>6.238137</td>\n",
       "      <td>0.971880</td>\n",
       "      <td>2401.0</td>\n",
       "      <td>2.109842</td>\n",
       "      <td>37.86</td>\n",
       "      <td>-122.22</td>\n",
       "      <td>3.585</td>\n",
       "    </tr>\n",
       "    <tr>\n",
       "      <th>2</th>\n",
       "      <td>7.2574</td>\n",
       "      <td>52.0</td>\n",
       "      <td>8.288136</td>\n",
       "      <td>1.073446</td>\n",
       "      <td>496.0</td>\n",
       "      <td>2.802260</td>\n",
       "      <td>37.85</td>\n",
       "      <td>-122.24</td>\n",
       "      <td>3.521</td>\n",
       "    </tr>\n",
       "    <tr>\n",
       "      <th>3</th>\n",
       "      <td>5.6431</td>\n",
       "      <td>52.0</td>\n",
       "      <td>5.817352</td>\n",
       "      <td>1.073059</td>\n",
       "      <td>558.0</td>\n",
       "      <td>2.547945</td>\n",
       "      <td>37.85</td>\n",
       "      <td>-122.25</td>\n",
       "      <td>3.413</td>\n",
       "    </tr>\n",
       "    <tr>\n",
       "      <th>4</th>\n",
       "      <td>3.8462</td>\n",
       "      <td>52.0</td>\n",
       "      <td>6.281853</td>\n",
       "      <td>1.081081</td>\n",
       "      <td>565.0</td>\n",
       "      <td>2.181467</td>\n",
       "      <td>37.85</td>\n",
       "      <td>-122.25</td>\n",
       "      <td>3.422</td>\n",
       "    </tr>\n",
       "  </tbody>\n",
       "</table>\n",
       "</div>"
      ],
      "text/plain": [
       "   MedInc  HouseAge  AveRooms  AveBedrms  Population  AveOccup  Latitude  \\\n",
       "0  8.3252      41.0  6.984127   1.023810       322.0  2.555556     37.88   \n",
       "1  8.3014      21.0  6.238137   0.971880      2401.0  2.109842     37.86   \n",
       "2  7.2574      52.0  8.288136   1.073446       496.0  2.802260     37.85   \n",
       "3  5.6431      52.0  5.817352   1.073059       558.0  2.547945     37.85   \n",
       "4  3.8462      52.0  6.281853   1.081081       565.0  2.181467     37.85   \n",
       "\n",
       "   Longitude  price  \n",
       "0    -122.23  4.526  \n",
       "1    -122.22  3.585  \n",
       "2    -122.24  3.521  \n",
       "3    -122.25  3.413  \n",
       "4    -122.25  3.422  "
      ]
     },
     "execution_count": 18,
     "metadata": {},
     "output_type": "execute_result"
    }
   ],
   "source": [
    "import pandas as pd \n",
    "\n",
    "df_features = pd.DataFrame(data=raw_data.data,columns=raw_data.feature_names)\n",
    "\n",
    "df_target = pd.DataFrame(data=raw_data.target,columns=['price'])\n",
    "\n",
    "df_combined = pd.concat([df_features,df_target],axis=1)\n",
    "\n",
    "df_combined.head()"
   ]
  },
  {
   "cell_type": "code",
   "execution_count": 42,
   "metadata": {},
   "outputs": [
    {
     "data": {
      "text/plain": [
       "((30,), (30, 2))"
      ]
     },
     "execution_count": 42,
     "metadata": {},
     "output_type": "execute_result"
    }
   ],
   "source": [
    "import matplotlib.pyplot as plt \n",
    "\n",
    "y = df_combined['price'][:30]\n",
    "X = df_combined[['HouseAge','AveBedrms']][:30]\n",
    "\n",
    "y.shape, X.shape"
   ]
  },
  {
   "cell_type": "code",
   "execution_count": 65,
   "metadata": {},
   "outputs": [
    {
     "data": {
      "text/plain": [
       "(30, 2)"
      ]
     },
     "execution_count": 65,
     "metadata": {},
     "output_type": "execute_result"
    }
   ],
   "source": [
    "X.shape"
   ]
  },
  {
   "cell_type": "code",
   "execution_count": 64,
   "metadata": {},
   "outputs": [
    {
     "data": {
      "text/plain": [
       "np.float64(77.17879549999999)"
      ]
     },
     "execution_count": 64,
     "metadata": {},
     "output_type": "execute_result"
    }
   ],
   "source": [
    "model = ScratchLinearRegression(0.001,1000,0.00000001)\n",
    "#model._hypothesis_function(weights=np.zeros(2),bias=30,X=X)\n",
    "model._cost_function(np.zeros(2),0,X=X,y=y)\n"
   ]
  },
  {
   "cell_type": "code",
   "execution_count": null,
   "metadata": {},
   "outputs": [],
   "source": []
  },
  {
   "cell_type": "code",
   "execution_count": null,
   "metadata": {},
   "outputs": [],
   "source": []
  }
 ],
 "metadata": {
  "kernelspec": {
   "display_name": "scratch-opBLSO_c-py3.12",
   "language": "python",
   "name": "python3"
  },
  "language_info": {
   "codemirror_mode": {
    "name": "ipython",
    "version": 3
   },
   "file_extension": ".py",
   "mimetype": "text/x-python",
   "name": "python",
   "nbconvert_exporter": "python",
   "pygments_lexer": "ipython3",
   "version": "3.12.5"
  }
 },
 "nbformat": 4,
 "nbformat_minor": 2
}
